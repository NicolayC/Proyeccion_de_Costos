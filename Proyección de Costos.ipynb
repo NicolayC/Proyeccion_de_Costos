{
 "cells": [
  {
   "cell_type": "markdown",
   "metadata": {
    "application/vnd.databricks.v1+cell": {
     "cellMetadata": {},
     "inputWidgets": {},
     "nuid": "0eaeee63-df5f-403d-bba7-19d83ac7f9d7",
     "showTitle": false,
     "tableResultSettingsMap": {},
     "title": ""
    }
   },
   "source": [
    "##Importaciones"
   ]
  },
  {
   "cell_type": "code",
   "execution_count": 0,
   "metadata": {
    "application/vnd.databricks.v1+cell": {
     "cellMetadata": {
      "byteLimit": 2048000,
      "rowLimit": 10000
     },
     "inputWidgets": {},
     "nuid": "153fcb98-8352-4479-8f68-29eb9c2924e1",
     "showTitle": false,
     "tableResultSettingsMap": {},
     "title": ""
    }
   },
   "outputs": [],
   "source": [
    "from statsmodels.tsa.statespace.sarimax import SARIMAX\n",
    "import pandas as pd\n",
    "import matplotlib.pyplot as plt\n",
    "import statsmodels.api as sm"
   ]
  },
  {
   "cell_type": "markdown",
   "metadata": {
    "application/vnd.databricks.v1+cell": {
     "cellMetadata": {},
     "inputWidgets": {},
     "nuid": "4777ded8-c424-4ce9-a997-8f52c190761e",
     "showTitle": false,
     "tableResultSettingsMap": {},
     "title": ""
    }
   },
   "source": [
    "##Cargar los datos"
   ]
  },
  {
   "cell_type": "markdown",
   "metadata": {
    "application/vnd.databricks.v1+cell": {
     "cellMetadata": {},
     "inputWidgets": {},
     "nuid": "dea7eaae-eab3-4e6c-a097-567bc69a42f3",
     "showTitle": false,
     "tableResultSettingsMap": {},
     "title": ""
    }
   },
   "source": [
    "Dataset X"
   ]
  },
  {
   "cell_type": "code",
   "execution_count": 0,
   "metadata": {
    "application/vnd.databricks.v1+cell": {
     "cellMetadata": {
      "byteLimit": 2048000,
      "rowLimit": 10000
     },
     "inputWidgets": {},
     "nuid": "b7655ef2-eaf5-402a-be81-149327cbdce5",
     "showTitle": false,
     "tableResultSettingsMap": {},
     "title": ""
    }
   },
   "outputs": [
    {
     "output_type": "display_data",
     "data": {
      "text/html": [
       "<style scoped>\n",
       "  .table-result-container {\n",
       "    max-height: 300px;\n",
       "    overflow: auto;\n",
       "  }\n",
       "  table, th, td {\n",
       "    border: 1px solid black;\n",
       "    border-collapse: collapse;\n",
       "  }\n",
       "  th, td {\n",
       "    padding: 5px;\n",
       "  }\n",
       "  th {\n",
       "    text-align: left;\n",
       "  }\n",
       "</style><div class='table-result-container'><table class='table-result'><thead style='background-color: white'><tr><th>Date</th><th>Price</th></tr></thead><tbody><tr><td>2024-04-04T00:00:00Z</td><td>89.18</td></tr><tr><td>2024-04-03T00:00:00Z</td><td>89.35</td></tr><tr><td>2024-04-02T00:00:00Z</td><td>88.92</td></tr><tr><td>2024-04-01T00:00:00Z</td><td>87.42</td></tr><tr><td>2024-03-28T00:00:00Z</td><td>87.48</td></tr></tbody></table></div>"
      ]
     },
     "metadata": {
      "application/vnd.databricks.v1+output": {
       "addedWidgets": {},
       "aggData": [],
       "aggError": "",
       "aggOverflow": false,
       "aggSchema": [],
       "aggSeriesLimitReached": false,
       "aggType": "",
       "arguments": {},
       "columnCustomDisplayInfos": {},
       "data": [
        [
         "2024-04-04T00:00:00Z",
         89.18
        ],
        [
         "2024-04-03T00:00:00Z",
         89.35
        ],
        [
         "2024-04-02T00:00:00Z",
         88.92
        ],
        [
         "2024-04-01T00:00:00Z",
         87.42
        ],
        [
         "2024-03-28T00:00:00Z",
         87.48
        ]
       ],
       "datasetInfos": [],
       "dbfsResultPath": null,
       "isJsonSchema": true,
       "metadata": {},
       "overflow": false,
       "plotOptions": {
        "customPlotOptions": {},
        "displayType": "table",
        "pivotAggregation": null,
        "pivotColumns": null,
        "xColumns": null,
        "yColumns": null
       },
       "removedWidgets": [],
       "schema": [
        {
         "metadata": "{}",
         "name": "Date",
         "type": "\"timestamp\""
        },
        {
         "metadata": "{}",
         "name": "Price",
         "type": "\"double\""
        }
       ],
       "type": "table"
      }
     },
     "output_type": "display_data"
    }
   ],
   "source": [
    "# Leer el archivo csv\n",
    "df_x = pd.read_csv('/Workspace/Users/nicolayc@outlook.com/X.csv')\n",
    "\n",
    "# Aplicar formato fecha\n",
    "df_x['Date'] = pd.to_datetime(df_x['Date'])\n",
    "\n",
    "display(df_x.head())"
   ]
  },
  {
   "cell_type": "markdown",
   "metadata": {
    "application/vnd.databricks.v1+cell": {
     "cellMetadata": {},
     "inputWidgets": {},
     "nuid": "a91113df-9961-4ed1-9672-0ae093d87946",
     "showTitle": false,
     "tableResultSettingsMap": {},
     "title": ""
    }
   },
   "source": [
    "Dataset Y"
   ]
  },
  {
   "cell_type": "code",
   "execution_count": 0,
   "metadata": {
    "application/vnd.databricks.v1+cell": {
     "cellMetadata": {
      "byteLimit": 2048000,
      "rowLimit": 10000
     },
     "inputWidgets": {},
     "nuid": "de497a2b-5efc-496d-885a-9e53e4bd2955",
     "showTitle": false,
     "tableResultSettingsMap": {},
     "title": ""
    }
   },
   "outputs": [
    {
     "output_type": "stream",
     "name": "stderr",
     "output_type": "stream",
     "text": [
      "/root/.ipykernel/1100/command-7564070703946715-3386190653:5: UserWarning: Parsing dates in DD/MM/YYYY format when dayfirst=False (the default) was specified. This may lead to inconsistently parsed dates! Specify a format to ensure consistent parsing.\n  df_y['Date'] = pd.to_datetime(df_y['Date'])\n"
     ]
    },
    {
     "output_type": "display_data",
     "data": {
      "text/html": [
       "<style scoped>\n",
       "  .table-result-container {\n",
       "    max-height: 300px;\n",
       "    overflow: auto;\n",
       "  }\n",
       "  table, th, td {\n",
       "    border: 1px solid black;\n",
       "    border-collapse: collapse;\n",
       "  }\n",
       "  th, td {\n",
       "    padding: 5px;\n",
       "  }\n",
       "  th {\n",
       "    text-align: left;\n",
       "  }\n",
       "</style><div class='table-result-container'><table class='table-result'><thead style='background-color: white'><tr><th>Date</th><th>Price</th></tr></thead><tbody><tr><td>2023-12-09T00:00:00Z</td><td>547.33</td></tr><tr><td>2023-11-09T00:00:00Z</td><td>546.0</td></tr><tr><td>2023-08-09T00:00:00Z</td><td>545.0</td></tr><tr><td>2023-07-09T00:00:00Z</td><td>550.0</td></tr><tr><td>2023-06-09T00:00:00Z</td><td>552.5</td></tr></tbody></table></div>"
      ]
     },
     "metadata": {
      "application/vnd.databricks.v1+output": {
       "addedWidgets": {},
       "aggData": [],
       "aggError": "",
       "aggOverflow": false,
       "aggSchema": [],
       "aggSeriesLimitReached": false,
       "aggType": "",
       "arguments": {},
       "columnCustomDisplayInfos": {},
       "data": [
        [
         "2023-12-09T00:00:00Z",
         547.33
        ],
        [
         "2023-11-09T00:00:00Z",
         546.0
        ],
        [
         "2023-08-09T00:00:00Z",
         545.0
        ],
        [
         "2023-07-09T00:00:00Z",
         550.0
        ],
        [
         "2023-06-09T00:00:00Z",
         552.5
        ]
       ],
       "datasetInfos": [],
       "dbfsResultPath": null,
       "isJsonSchema": true,
       "metadata": {},
       "overflow": false,
       "plotOptions": {
        "customPlotOptions": {},
        "displayType": "table",
        "pivotAggregation": null,
        "pivotColumns": null,
        "xColumns": null,
        "yColumns": null
       },
       "removedWidgets": [],
       "schema": [
        {
         "metadata": "{}",
         "name": "Date",
         "type": "\"timestamp\""
        },
        {
         "metadata": "{}",
         "name": "Price",
         "type": "\"double\""
        }
       ],
       "type": "table"
      }
     },
     "output_type": "display_data"
    }
   ],
   "source": [
    "# Leer el archivo csv (delimitador \";\")\n",
    "df_y = pd.read_csv('/Workspace/Users/nicolayc@outlook.com/Y.csv', delimiter=';')\n",
    "\n",
    "# Aplicar formato fecha\n",
    "df_y['Date'] = pd.to_datetime(df_y['Date'])\n",
    "\n",
    "display(df_y.head())"
   ]
  },
  {
   "cell_type": "markdown",
   "metadata": {
    "application/vnd.databricks.v1+cell": {
     "cellMetadata": {},
     "inputWidgets": {},
     "nuid": "616b6789-1865-42c7-ba12-a357e45a8274",
     "showTitle": false,
     "tableResultSettingsMap": {},
     "title": ""
    }
   },
   "source": [
    "Dataset Z"
   ]
  },
  {
   "cell_type": "code",
   "execution_count": 0,
   "metadata": {
    "application/vnd.databricks.v1+cell": {
     "cellMetadata": {
      "byteLimit": 2048000,
      "rowLimit": 10000
     },
     "inputWidgets": {},
     "nuid": "e959a0b1-109e-47bf-a429-79e260e71c07",
     "showTitle": false,
     "tableResultSettingsMap": {},
     "title": ""
    }
   },
   "outputs": [
    {
     "output_type": "display_data",
     "data": {
      "text/html": [
       "<style scoped>\n",
       "  .table-result-container {\n",
       "    max-height: 300px;\n",
       "    overflow: auto;\n",
       "  }\n",
       "  table, th, td {\n",
       "    border: 1px solid black;\n",
       "    border-collapse: collapse;\n",
       "  }\n",
       "  th, td {\n",
       "    padding: 5px;\n",
       "  }\n",
       "  th {\n",
       "    text-align: left;\n",
       "  }\n",
       "</style><div class='table-result-container'><table class='table-result'><thead style='background-color: white'><tr><th>Date</th><th>Price</th></tr></thead><tbody><tr><td>2024-04-04T00:00:00Z</td><td>89.18</td></tr><tr><td>2024-04-03T00:00:00Z</td><td>89.35</td></tr><tr><td>2024-04-02T00:00:00Z</td><td>88.92</td></tr><tr><td>2024-04-01T00:00:00Z</td><td>87.42</td></tr><tr><td>2024-03-28T00:00:00Z</td><td>87.48</td></tr><tr><td>2024-03-27T00:00:00Z</td><td>86.09</td></tr><tr><td>2024-03-26T00:00:00Z</td><td>86.25</td></tr><tr><td>2024-03-25T00:00:00Z</td><td>86.75</td></tr><tr><td>2024-03-22T00:00:00Z</td><td>85.43</td></tr><tr><td>2024-03-21T00:00:00Z</td><td>85.78</td></tr></tbody></table></div>"
      ]
     },
     "metadata": {
      "application/vnd.databricks.v1+output": {
       "addedWidgets": {},
       "aggData": [],
       "aggError": "",
       "aggOverflow": false,
       "aggSchema": [],
       "aggSeriesLimitReached": false,
       "aggType": "",
       "arguments": {},
       "columnCustomDisplayInfos": {},
       "data": [
        [
         "2024-04-04T00:00:00Z",
         89.18
        ],
        [
         "2024-04-03T00:00:00Z",
         89.35
        ],
        [
         "2024-04-02T00:00:00Z",
         88.92
        ],
        [
         "2024-04-01T00:00:00Z",
         87.42
        ],
        [
         "2024-03-28T00:00:00Z",
         87.48
        ],
        [
         "2024-03-27T00:00:00Z",
         86.09
        ],
        [
         "2024-03-26T00:00:00Z",
         86.25
        ],
        [
         "2024-03-25T00:00:00Z",
         86.75
        ],
        [
         "2024-03-22T00:00:00Z",
         85.43
        ],
        [
         "2024-03-21T00:00:00Z",
         85.78
        ]
       ],
       "datasetInfos": [],
       "dbfsResultPath": null,
       "isJsonSchema": true,
       "metadata": {},
       "overflow": false,
       "plotOptions": {
        "customPlotOptions": {},
        "displayType": "table",
        "pivotAggregation": null,
        "pivotColumns": null,
        "xColumns": null,
        "yColumns": null
       },
       "removedWidgets": [],
       "schema": [
        {
         "metadata": "{}",
         "name": "Date",
         "type": "\"timestamp\""
        },
        {
         "metadata": "{}",
         "name": "Price",
         "type": "\"double\""
        }
       ],
       "type": "table"
      }
     },
     "output_type": "display_data"
    }
   ],
   "source": [
    "# Leer el archivo csv\n",
    "df_z = pd.read_csv('/Workspace/Users/nicolayc@outlook.com/Z.csv')\n",
    "\n",
    "# Aplicar formato fecha\n",
    "df_z['Date'] = pd.to_datetime(df_z['Date'])\n",
    "\n",
    "# Cambiar orden de columnas\n",
    "df_z = df_z[['Date', 'Price']]\n",
    "\n",
    "display(df_x.head(10))"
   ]
  },
  {
   "cell_type": "markdown",
   "metadata": {
    "application/vnd.databricks.v1+cell": {
     "cellMetadata": {},
     "inputWidgets": {},
     "nuid": "a0893271-b871-473b-b702-70947a657025",
     "showTitle": false,
     "tableResultSettingsMap": {},
     "title": ""
    }
   },
   "source": [
    "## Filtrar por fechas"
   ]
  },
  {
   "cell_type": "code",
   "execution_count": 0,
   "metadata": {
    "application/vnd.databricks.v1+cell": {
     "cellMetadata": {
      "byteLimit": 2048000,
      "rowLimit": 10000
     },
     "inputWidgets": {},
     "nuid": "6ffbb7fa-fa5e-4b27-b880-192044c0e7d8",
     "showTitle": false,
     "tableResultSettingsMap": {},
     "title": ""
    }
   },
   "outputs": [
    {
     "output_type": "display_data",
     "data": {
      "text/html": [
       "<style scoped>\n",
       "  .table-result-container {\n",
       "    max-height: 300px;\n",
       "    overflow: auto;\n",
       "  }\n",
       "  table, th, td {\n",
       "    border: 1px solid black;\n",
       "    border-collapse: collapse;\n",
       "  }\n",
       "  th, td {\n",
       "    padding: 5px;\n",
       "  }\n",
       "  th {\n",
       "    text-align: left;\n",
       "  }\n",
       "</style><div class='table-result-container'><table class='table-result'><thead style='background-color: white'><tr><th>Date</th><th>Price</th></tr></thead><tbody><tr><td>2023-12-29T00:00:00Z</td><td>77.04</td></tr><tr><td>2023-12-28T00:00:00Z</td><td>78.39</td></tr><tr><td>2023-12-27T00:00:00Z</td><td>79.65</td></tr><tr><td>2023-12-26T00:00:00Z</td><td>81.07</td></tr><tr><td>2023-12-22T00:00:00Z</td><td>79.07</td></tr></tbody></table></div>"
      ]
     },
     "metadata": {
      "application/vnd.databricks.v1+output": {
       "addedWidgets": {},
       "aggData": [],
       "aggError": "",
       "aggOverflow": false,
       "aggSchema": [],
       "aggSeriesLimitReached": false,
       "aggType": "",
       "arguments": {},
       "columnCustomDisplayInfos": {},
       "data": [
        [
         "2023-12-29T00:00:00Z",
         77.04
        ],
        [
         "2023-12-28T00:00:00Z",
         78.39
        ],
        [
         "2023-12-27T00:00:00Z",
         79.65
        ],
        [
         "2023-12-26T00:00:00Z",
         81.07
        ],
        [
         "2023-12-22T00:00:00Z",
         79.07
        ]
       ],
       "datasetInfos": [],
       "dbfsResultPath": null,
       "isJsonSchema": true,
       "metadata": {},
       "overflow": false,
       "plotOptions": {
        "customPlotOptions": {},
        "displayType": "table",
        "pivotAggregation": null,
        "pivotColumns": null,
        "xColumns": null,
        "yColumns": null
       },
       "removedWidgets": [],
       "schema": [
        {
         "metadata": "{}",
         "name": "Date",
         "type": "\"timestamp\""
        },
        {
         "metadata": "{}",
         "name": "Price",
         "type": "\"double\""
        }
       ],
       "type": "table"
      }
     },
     "output_type": "display_data"
    },
    {
     "output_type": "display_data",
     "data": {
      "text/html": [
       "<style scoped>\n",
       "  .table-result-container {\n",
       "    max-height: 300px;\n",
       "    overflow: auto;\n",
       "  }\n",
       "  table, th, td {\n",
       "    border: 1px solid black;\n",
       "    border-collapse: collapse;\n",
       "  }\n",
       "  th, td {\n",
       "    padding: 5px;\n",
       "  }\n",
       "  th {\n",
       "    text-align: left;\n",
       "  }\n",
       "</style><div class='table-result-container'><table class='table-result'><thead style='background-color: white'><tr><th>Date</th><th>Price</th></tr></thead><tbody><tr><td>2023-12-09T00:00:00Z</td><td>547.33</td></tr><tr><td>2023-11-09T00:00:00Z</td><td>546.0</td></tr><tr><td>2023-08-09T00:00:00Z</td><td>545.0</td></tr><tr><td>2023-07-09T00:00:00Z</td><td>550.0</td></tr><tr><td>2023-06-09T00:00:00Z</td><td>552.5</td></tr></tbody></table></div>"
      ]
     },
     "metadata": {
      "application/vnd.databricks.v1+output": {
       "addedWidgets": {},
       "aggData": [],
       "aggError": "",
       "aggOverflow": false,
       "aggSchema": [],
       "aggSeriesLimitReached": false,
       "aggType": "",
       "arguments": {},
       "columnCustomDisplayInfos": {},
       "data": [
        [
         "2023-12-09T00:00:00Z",
         547.33
        ],
        [
         "2023-11-09T00:00:00Z",
         546.0
        ],
        [
         "2023-08-09T00:00:00Z",
         545.0
        ],
        [
         "2023-07-09T00:00:00Z",
         550.0
        ],
        [
         "2023-06-09T00:00:00Z",
         552.5
        ]
       ],
       "datasetInfos": [],
       "dbfsResultPath": null,
       "isJsonSchema": true,
       "metadata": {},
       "overflow": false,
       "plotOptions": {
        "customPlotOptions": {},
        "displayType": "table",
        "pivotAggregation": null,
        "pivotColumns": null,
        "xColumns": null,
        "yColumns": null
       },
       "removedWidgets": [],
       "schema": [
        {
         "metadata": "{}",
         "name": "Date",
         "type": "\"timestamp\""
        },
        {
         "metadata": "{}",
         "name": "Price",
         "type": "\"double\""
        }
       ],
       "type": "table"
      }
     },
     "output_type": "display_data"
    },
    {
     "output_type": "display_data",
     "data": {
      "text/html": [
       "<style scoped>\n",
       "  .table-result-container {\n",
       "    max-height: 300px;\n",
       "    overflow: auto;\n",
       "  }\n",
       "  table, th, td {\n",
       "    border: 1px solid black;\n",
       "    border-collapse: collapse;\n",
       "  }\n",
       "  th, td {\n",
       "    padding: 5px;\n",
       "  }\n",
       "  th {\n",
       "    text-align: left;\n",
       "  }\n",
       "</style><div class='table-result-container'><table class='table-result'><thead style='background-color: white'><tr><th>Date</th><th>Price</th></tr></thead><tbody><tr><td>2010-01-01T00:00:00Z</td><td>2225.25</td></tr><tr><td>2010-01-04T00:00:00Z</td><td>2225.25</td></tr><tr><td>2010-01-05T00:00:00Z</td><td>2246.5</td></tr><tr><td>2010-01-06T00:00:00Z</td><td>2302.5</td></tr><tr><td>2010-01-07T00:00:00Z</td><td>2306.5</td></tr></tbody></table></div>"
      ]
     },
     "metadata": {
      "application/vnd.databricks.v1+output": {
       "addedWidgets": {},
       "aggData": [],
       "aggError": "",
       "aggOverflow": false,
       "aggSchema": [],
       "aggSeriesLimitReached": false,
       "aggType": "",
       "arguments": {},
       "columnCustomDisplayInfos": {},
       "data": [
        [
         "2010-01-01T00:00:00Z",
         2225.25
        ],
        [
         "2010-01-04T00:00:00Z",
         2225.25
        ],
        [
         "2010-01-05T00:00:00Z",
         2246.5
        ],
        [
         "2010-01-06T00:00:00Z",
         2302.5
        ],
        [
         "2010-01-07T00:00:00Z",
         2306.5
        ]
       ],
       "datasetInfos": [],
       "dbfsResultPath": null,
       "isJsonSchema": true,
       "metadata": {},
       "overflow": false,
       "plotOptions": {
        "customPlotOptions": {},
        "displayType": "table",
        "pivotAggregation": null,
        "pivotColumns": null,
        "xColumns": null,
        "yColumns": null
       },
       "removedWidgets": [],
       "schema": [
        {
         "metadata": "{}",
         "name": "Date",
         "type": "\"timestamp\""
        },
        {
         "metadata": "{}",
         "name": "Price",
         "type": "\"double\""
        }
       ],
       "type": "table"
      }
     },
     "output_type": "display_data"
    }
   ],
   "source": [
    "start_date = '2010-01-01'\n",
    "end_date = '2023-12-31'\n",
    "\n",
    "df_x = df_x[(df_x['Date'] >= start_date) & (df_x['Date'] <= end_date)]\n",
    "df_y = df_y[(df_y['Date'] >= start_date) & (df_y['Date'] <= end_date)]\n",
    "df_z = df_z[(df_z['Date'] >= start_date) & (df_z['Date'] <= end_date)]\n",
    "\n",
    "display(df_x.head())\n",
    "display(df_y.head())\n",
    "display(df_z.head())"
   ]
  },
  {
   "cell_type": "markdown",
   "metadata": {
    "application/vnd.databricks.v1+cell": {
     "cellMetadata": {},
     "inputWidgets": {},
     "nuid": "f3e3f830-3796-4412-8256-d35f6cad4f7f",
     "showTitle": false,
     "tableResultSettingsMap": {},
     "title": ""
    }
   },
   "source": [
    "## Unir los datasets"
   ]
  },
  {
   "cell_type": "code",
   "execution_count": 0,
   "metadata": {
    "application/vnd.databricks.v1+cell": {
     "cellMetadata": {
      "byteLimit": 2048000,
      "rowLimit": 10000
     },
     "inputWidgets": {},
     "nuid": "f7ebfc21-a603-49c8-ae99-b175406892b2",
     "showTitle": false,
     "tableResultSettingsMap": {},
     "title": ""
    }
   },
   "outputs": [],
   "source": [
    "# Renombrar columnas en cada dataframe\n",
    "df_x = df_x.rename(columns={'Price': 'Price_X'})\n",
    "df_y = df_y.rename(columns={'Price': 'Price_Y'})\n",
    "df_z = df_z.rename(columns={'Price': 'Price_Z'})  \n",
    "\n",
    "# Asegurar que las columnas finales sean: Date, Price_X / Y / Z\n",
    "df_x = df_x[['Date', 'Price_X']]\n",
    "df_y = df_y[['Date', 'Price_Y']]\n",
    "df_z = df_z[['Date', 'Price_Z']]"
   ]
  },
  {
   "cell_type": "code",
   "execution_count": 0,
   "metadata": {
    "application/vnd.databricks.v1+cell": {
     "cellMetadata": {
      "byteLimit": 2048000,
      "rowLimit": 10000
     },
     "inputWidgets": {},
     "nuid": "4cfc7da2-2654-4311-bfdf-278ef0ba8e15",
     "showTitle": false,
     "tableResultSettingsMap": {},
     "title": ""
    }
   },
   "outputs": [
    {
     "output_type": "display_data",
     "data": {
      "text/html": [
       "<style scoped>\n",
       "  .table-result-container {\n",
       "    max-height: 300px;\n",
       "    overflow: auto;\n",
       "  }\n",
       "  table, th, td {\n",
       "    border: 1px solid black;\n",
       "    border-collapse: collapse;\n",
       "  }\n",
       "  th, td {\n",
       "    padding: 5px;\n",
       "  }\n",
       "  th {\n",
       "    text-align: left;\n",
       "  }\n",
       "</style><div class='table-result-container'><table class='table-result'><thead style='background-color: white'><tr><th>Date</th><th>Price_X</th><th>Price_Y</th><th>Price_Z</th></tr></thead><tbody><tr><td>2010-01-01T00:00:00Z</td><td>null</td><td>527.5</td><td>2225.25</td></tr><tr><td>2010-01-02T00:00:00Z</td><td>null</td><td>542.5</td><td>null</td></tr><tr><td>2010-01-03T00:00:00Z</td><td>null</td><td>565.0</td><td>null</td></tr><tr><td>2010-01-04T00:00:00Z</td><td>80.12</td><td>645.0</td><td>2225.25</td></tr><tr><td>2010-01-05T00:00:00Z</td><td>80.59</td><td>null</td><td>2246.5</td></tr></tbody></table></div>"
      ]
     },
     "metadata": {
      "application/vnd.databricks.v1+output": {
       "addedWidgets": {},
       "aggData": [],
       "aggError": "",
       "aggOverflow": false,
       "aggSchema": [],
       "aggSeriesLimitReached": false,
       "aggType": "",
       "arguments": {},
       "columnCustomDisplayInfos": {},
       "data": [
        [
         "2010-01-01T00:00:00Z",
         null,
         527.5,
         2225.25
        ],
        [
         "2010-01-02T00:00:00Z",
         null,
         542.5,
         null
        ],
        [
         "2010-01-03T00:00:00Z",
         null,
         565.0,
         null
        ],
        [
         "2010-01-04T00:00:00Z",
         80.12,
         645.0,
         2225.25
        ],
        [
         "2010-01-05T00:00:00Z",
         80.59,
         null,
         2246.5
        ]
       ],
       "datasetInfos": [],
       "dbfsResultPath": null,
       "isJsonSchema": true,
       "metadata": {},
       "overflow": false,
       "plotOptions": {
        "customPlotOptions": {},
        "displayType": "table",
        "pivotAggregation": null,
        "pivotColumns": null,
        "xColumns": null,
        "yColumns": null
       },
       "removedWidgets": [],
       "schema": [
        {
         "metadata": "{}",
         "name": "Date",
         "type": "\"timestamp\""
        },
        {
         "metadata": "{}",
         "name": "Price_X",
         "type": "\"double\""
        },
        {
         "metadata": "{}",
         "name": "Price_Y",
         "type": "\"double\""
        },
        {
         "metadata": "{}",
         "name": "Price_Z",
         "type": "\"double\""
        }
       ],
       "type": "table"
      }
     },
     "output_type": "display_data"
    }
   ],
   "source": [
    "# Unir por fecha (outer join)\n",
    "df = pd.merge(df_x, df_y, on='Date', how='outer')\n",
    "df = pd.merge(df, df_z, on='Date', how='outer')\n",
    "\n",
    "# Ordenar por fecha\n",
    "df = df.sort_values('Date')\n",
    "display(df.head())\n"
   ]
  },
  {
   "cell_type": "markdown",
   "metadata": {
    "application/vnd.databricks.v1+cell": {
     "cellMetadata": {},
     "inputWidgets": {},
     "nuid": "a552ecc7-8c5b-4d5a-8df6-cfde8af9daf4",
     "showTitle": false,
     "tableResultSettingsMap": {},
     "title": ""
    }
   },
   "source": [
    "## Manejo de nulos"
   ]
  },
  {
   "cell_type": "code",
   "execution_count": 0,
   "metadata": {
    "application/vnd.databricks.v1+cell": {
     "cellMetadata": {
      "byteLimit": 2048000,
      "rowLimit": 10000
     },
     "inputWidgets": {},
     "nuid": "08e74ad0-28cd-43d9-ba5a-e1251718cf61",
     "showTitle": false,
     "tableResultSettingsMap": {},
     "title": ""
    }
   },
   "outputs": [
    {
     "output_type": "display_data",
     "data": {
      "text/html": [
       "<style scoped>\n",
       "  .table-result-container {\n",
       "    max-height: 300px;\n",
       "    overflow: auto;\n",
       "  }\n",
       "  table, th, td {\n",
       "    border: 1px solid black;\n",
       "    border-collapse: collapse;\n",
       "  }\n",
       "  th, td {\n",
       "    padding: 5px;\n",
       "  }\n",
       "  th {\n",
       "    text-align: left;\n",
       "  }\n",
       "</style><div class='table-result-container'><table class='table-result'><thead style='background-color: white'><tr><th>Date</th><th>Price_X</th><th>Price_Y</th><th>Price_Z</th></tr></thead><tbody><tr><td>2010-01-01T00:00:00Z</td><td>78.259540802213</td><td>527.5</td><td>2225.25</td></tr><tr><td>2010-01-02T00:00:00Z</td><td>78.259540802213</td><td>542.5</td><td>2037.0811969871695</td></tr><tr><td>2010-01-03T00:00:00Z</td><td>78.259540802213</td><td>565.0</td><td>2037.0811969871695</td></tr><tr><td>2010-01-04T00:00:00Z</td><td>80.12</td><td>645.0</td><td>2225.25</td></tr><tr><td>2010-01-05T00:00:00Z</td><td>80.59</td><td>555.3524608501119</td><td>2246.5</td></tr></tbody></table></div>"
      ]
     },
     "metadata": {
      "application/vnd.databricks.v1+output": {
       "addedWidgets": {},
       "aggData": [],
       "aggError": "",
       "aggOverflow": false,
       "aggSchema": [],
       "aggSeriesLimitReached": false,
       "aggType": "",
       "arguments": {},
       "columnCustomDisplayInfos": {},
       "data": [
        [
         "2010-01-01T00:00:00Z",
         78.259540802213,
         527.5,
         2225.25
        ],
        [
         "2010-01-02T00:00:00Z",
         78.259540802213,
         542.5,
         2037.0811969871695
        ],
        [
         "2010-01-03T00:00:00Z",
         78.259540802213,
         565.0,
         2037.0811969871695
        ],
        [
         "2010-01-04T00:00:00Z",
         80.12,
         645.0,
         2225.25
        ],
        [
         "2010-01-05T00:00:00Z",
         80.59,
         555.3524608501119,
         2246.5
        ]
       ],
       "datasetInfos": [],
       "dbfsResultPath": null,
       "isJsonSchema": true,
       "metadata": {},
       "overflow": false,
       "plotOptions": {
        "customPlotOptions": {},
        "displayType": "table",
        "pivotAggregation": null,
        "pivotColumns": null,
        "xColumns": null,
        "yColumns": null
       },
       "removedWidgets": [],
       "schema": [
        {
         "metadata": "{}",
         "name": "Date",
         "type": "\"timestamp\""
        },
        {
         "metadata": "{}",
         "name": "Price_X",
         "type": "\"double\""
        },
        {
         "metadata": "{}",
         "name": "Price_Y",
         "type": "\"double\""
        },
        {
         "metadata": "{}",
         "name": "Price_Z",
         "type": "\"double\""
        }
       ],
       "type": "table"
      }
     },
     "output_type": "display_data"
    }
   ],
   "source": [
    "for col in ['Price_X', 'Price_Y', 'Price_Z']:\n",
    "    df[col] = df[col].fillna(df[col].mean())\n",
    "display(df.head())"
   ]
  },
  {
   "cell_type": "markdown",
   "metadata": {
    "application/vnd.databricks.v1+cell": {
     "cellMetadata": {},
     "inputWidgets": {},
     "nuid": "a1b5721e-fbc4-44d4-a78d-3dc47194210c",
     "showTitle": false,
     "tableResultSettingsMap": {},
     "title": ""
    }
   },
   "source": [
    "## Calcular el precio estimado de los equipos"
   ]
  },
  {
   "cell_type": "code",
   "execution_count": 0,
   "metadata": {
    "application/vnd.databricks.v1+cell": {
     "cellMetadata": {
      "byteLimit": 2048000,
      "rowLimit": 10000
     },
     "inputWidgets": {},
     "nuid": "bfd4dae9-5f89-41e4-a7ee-a4f4c93bdeb9",
     "showTitle": false,
     "tableResultSettingsMap": {},
     "title": ""
    }
   },
   "outputs": [],
   "source": [
    "# Equipo 1: 20% de materia prima X y 80% de materia prima Y\n",
    "df['Precio_E1'] = 0.20 * df['Price_X'] + 0.80 * df['Price_Y']\n",
    "# Equipo 2: conformado por las 3 materias primas X,Y y Z en partes iguales\n",
    "df['Precio_E2'] = (df['Price_X'] + df['Price_Y'] + df['Price_Z']) / 3\n"
   ]
  },
  {
   "cell_type": "code",
   "execution_count": 0,
   "metadata": {
    "application/vnd.databricks.v1+cell": {
     "cellMetadata": {
      "byteLimit": 2048000,
      "rowLimit": 10000
     },
     "inputWidgets": {},
     "nuid": "89d87cc1-7355-4fac-bf0e-3a13f5125f73",
     "showTitle": false,
     "tableResultSettingsMap": {},
     "title": ""
    }
   },
   "outputs": [
    {
     "output_type": "display_data",
     "data": {
      "text/html": [
       "<style scoped>\n",
       "  .table-result-container {\n",
       "    max-height: 300px;\n",
       "    overflow: auto;\n",
       "  }\n",
       "  table, th, td {\n",
       "    border: 1px solid black;\n",
       "    border-collapse: collapse;\n",
       "  }\n",
       "  th, td {\n",
       "    padding: 5px;\n",
       "  }\n",
       "  th {\n",
       "    text-align: left;\n",
       "  }\n",
       "</style><div class='table-result-container'><table class='table-result'><thead style='background-color: white'><tr><th>Date</th><th>Precio_E1</th></tr></thead><tbody><tr><td>2010-01-01T00:00:00Z</td><td>437.6519081604426</td></tr><tr><td>2010-01-02T00:00:00Z</td><td>449.6519081604426</td></tr><tr><td>2010-01-03T00:00:00Z</td><td>467.6519081604426</td></tr><tr><td>2010-01-04T00:00:00Z</td><td>532.024</td></tr><tr><td>2010-01-05T00:00:00Z</td><td>460.39996868008956</td></tr></tbody></table></div>"
      ]
     },
     "metadata": {
      "application/vnd.databricks.v1+output": {
       "addedWidgets": {},
       "aggData": [],
       "aggError": "",
       "aggOverflow": false,
       "aggSchema": [],
       "aggSeriesLimitReached": false,
       "aggType": "",
       "arguments": {},
       "columnCustomDisplayInfos": {},
       "data": [
        [
         "2010-01-01T00:00:00Z",
         437.6519081604426
        ],
        [
         "2010-01-02T00:00:00Z",
         449.6519081604426
        ],
        [
         "2010-01-03T00:00:00Z",
         467.6519081604426
        ],
        [
         "2010-01-04T00:00:00Z",
         532.024
        ],
        [
         "2010-01-05T00:00:00Z",
         460.39996868008956
        ]
       ],
       "datasetInfos": [],
       "dbfsResultPath": null,
       "isJsonSchema": true,
       "metadata": {},
       "overflow": false,
       "plotOptions": {
        "customPlotOptions": {},
        "displayType": "table",
        "pivotAggregation": null,
        "pivotColumns": null,
        "xColumns": null,
        "yColumns": null
       },
       "removedWidgets": [],
       "schema": [
        {
         "metadata": "{}",
         "name": "Date",
         "type": "\"timestamp\""
        },
        {
         "metadata": "{}",
         "name": "Precio_E1",
         "type": "\"double\""
        }
       ],
       "type": "table"
      }
     },
     "output_type": "display_data"
    },
    {
     "output_type": "display_data",
     "data": {
      "text/html": [
       "<style scoped>\n",
       "  .table-result-container {\n",
       "    max-height: 300px;\n",
       "    overflow: auto;\n",
       "  }\n",
       "  table, th, td {\n",
       "    border: 1px solid black;\n",
       "    border-collapse: collapse;\n",
       "  }\n",
       "  th, td {\n",
       "    padding: 5px;\n",
       "  }\n",
       "  th {\n",
       "    text-align: left;\n",
       "  }\n",
       "</style><div class='table-result-container'><table class='table-result'><thead style='background-color: white'><tr><th>Date</th><th>Precio_E2</th></tr></thead><tbody><tr><td>2010-01-01T00:00:00Z</td><td>943.669846934071</td></tr><tr><td>2010-01-02T00:00:00Z</td><td>885.946912596461</td></tr><tr><td>2010-01-03T00:00:00Z</td><td>893.446912596461</td></tr><tr><td>2010-01-04T00:00:00Z</td><td>983.4566666666666</td></tr><tr><td>2010-01-05T00:00:00Z</td><td>960.8141536167041</td></tr></tbody></table></div>"
      ]
     },
     "metadata": {
      "application/vnd.databricks.v1+output": {
       "addedWidgets": {},
       "aggData": [],
       "aggError": "",
       "aggOverflow": false,
       "aggSchema": [],
       "aggSeriesLimitReached": false,
       "aggType": "",
       "arguments": {},
       "columnCustomDisplayInfos": {},
       "data": [
        [
         "2010-01-01T00:00:00Z",
         943.669846934071
        ],
        [
         "2010-01-02T00:00:00Z",
         885.946912596461
        ],
        [
         "2010-01-03T00:00:00Z",
         893.446912596461
        ],
        [
         "2010-01-04T00:00:00Z",
         983.4566666666666
        ],
        [
         "2010-01-05T00:00:00Z",
         960.8141536167041
        ]
       ],
       "datasetInfos": [],
       "dbfsResultPath": null,
       "isJsonSchema": true,
       "metadata": {},
       "overflow": false,
       "plotOptions": {
        "customPlotOptions": {},
        "displayType": "table",
        "pivotAggregation": null,
        "pivotColumns": null,
        "xColumns": null,
        "yColumns": null
       },
       "removedWidgets": [],
       "schema": [
        {
         "metadata": "{}",
         "name": "Date",
         "type": "\"timestamp\""
        },
        {
         "metadata": "{}",
         "name": "Precio_E2",
         "type": "\"double\""
        }
       ],
       "type": "table"
      }
     },
     "output_type": "display_data"
    }
   ],
   "source": [
    "# DataFrame para Precio_E1\n",
    "df_e1 = df[['Date', 'Precio_E1']].copy()\n",
    "\n",
    "# DataFrame para Precio_E2\n",
    "df_e2 = df[['Date', 'Precio_E2']].copy()\n",
    "\n",
    "# Mostrar ambos\n",
    "display(df_e1.head())\n",
    "display(df_e2.head())"
   ]
  },
  {
   "cell_type": "code",
   "execution_count": 0,
   "metadata": {
    "application/vnd.databricks.v1+cell": {
     "cellMetadata": {
      "byteLimit": 2048000,
      "rowLimit": 10000
     },
     "inputWidgets": {},
     "nuid": "b293ec68-9e46-4a1b-8852-8cf689754155",
     "showTitle": false,
     "tableResultSettingsMap": {},
     "title": ""
    }
   },
   "outputs": [],
   "source": [
    "# Frecuencia mensual\n",
    "# # df_e1: columnas ['Date', 'Precio_E1']\n",
    "df_e1 = df_e1.set_index('Date').resample('M').mean()\n",
    "# df_e2: columnas ['Date', 'Precio_E2']\n",
    "df_e2 = df_e2.set_index('Date').resample('M').mean()"
   ]
  },
  {
   "cell_type": "markdown",
   "metadata": {
    "application/vnd.databricks.v1+cell": {
     "cellMetadata": {},
     "inputWidgets": {},
     "nuid": "83b075f0-5b08-49c9-81a3-af3700211d0a",
     "showTitle": false,
     "tableResultSettingsMap": {},
     "title": ""
    }
   },
   "source": [
    "## Modelo para la proyección"
   ]
  },
  {
   "cell_type": "code",
   "execution_count": 0,
   "metadata": {
    "application/vnd.databricks.v1+cell": {
     "cellMetadata": {
      "byteLimit": 2048000,
      "rowLimit": 10000
     },
     "inputWidgets": {},
     "nuid": "3ad83e65-ed8f-43e2-adcc-ef2eb9c849dd",
     "showTitle": false,
     "tableResultSettingsMap": {},
     "title": ""
    }
   },
   "outputs": [
    {
     "output_type": "stream",
     "name": "stdout",
     "output_type": "stream",
     "text": [
      "RUNNING THE L-BFGS-B CODE\n\n           * * *\n\nMachine precision = 2.220D-16\n N =            5     M =           10\n\nAt X0         0 variables are exactly at the bounds\n\nAt iterate    0    f=  4.16006D+00    |proj g|=  5.71624D-02\n\nAt iterate    5    f=  4.08179D+00    |proj g|=  9.04728D-02\n"
     ]
    },
    {
     "output_type": "stream",
     "name": "stderr",
     "output_type": "stream",
     "text": [
      " This problem is unconstrained.\n"
     ]
    },
    {
     "output_type": "stream",
     "name": "stdout",
     "output_type": "stream",
     "text": [
      "\nAt iterate   10    f=  4.03869D+00    |proj g|=  1.87295D-02\n\nAt iterate   15    f=  4.03836D+00    |proj g|=  1.19913D-04\n\nAt iterate   20    f=  4.03835D+00    |proj g|=  2.42870D-03\n\nAt iterate   25    f=  4.03828D+00    |proj g|=  1.45286D-03\n\nAt iterate   30    f=  4.03826D+00    |proj g|=  9.61460D-04\n\nAt iterate   35    f=  4.03825D+00    |proj g|=  3.32011D-04\n\nAt iterate   40    f=  4.03825D+00    |proj g|=  4.04383D-05\n\nAt iterate   45    f=  4.03825D+00    |proj g|=  2.48470D-05\n\n           * * *\n\nTit   = total number of iterations\nTnf   = total number of function evaluations\nTnint = total number of segments explored during Cauchy searches\nSkip  = number of BFGS updates skipped\nNact  = number of active bounds at final generalized Cauchy point\nProjg = norm of the final projected gradient\nF     = final function value\n\n           * * *\n\n   N    Tit     Tnf  Tnint  Skip  Nact     Projg        F\n    5     48     56      1     0     0   3.412D-05   4.038D+00\n  F =   4.0382502369194944     \n\nCONVERGENCE: REL_REDUCTION_OF_F_<=_FACTR*EPSMCH             \n"
     ]
    },
    {
     "output_type": "stream",
     "name": "stderr",
     "output_type": "stream",
     "text": [
      " This problem is unconstrained.\n"
     ]
    },
    {
     "output_type": "stream",
     "name": "stdout",
     "output_type": "stream",
     "text": [
      "RUNNING THE L-BFGS-B CODE\n\n           * * *\n\nMachine precision = 2.220D-16\n N =            5     M =           10\n\nAt X0         0 variables are exactly at the bounds\n\nAt iterate    0    f=  4.76102D+00    |proj g|=  3.16354D-02\n\nAt iterate    5    f=  4.74732D+00    |proj g|=  9.07494D-03\n\nAt iterate   10    f=  4.65205D+00    |proj g|=  2.42981D-02\n\nAt iterate   15    f=  4.64856D+00    |proj g|=  3.31432D-03\n\nAt iterate   20    f=  4.64818D+00    |proj g|=  1.35862D-03\n\n           * * *\n\nTit   = total number of iterations\nTnf   = total number of function evaluations\nTnint = total number of segments explored during Cauchy searches\nSkip  = number of BFGS updates skipped\nNact  = number of active bounds at final generalized Cauchy point\nProjg = norm of the final projected gradient\nF     = final function value\n\n           * * *\n\n   N    Tit     Tnf  Tnint  Skip  Nact     Projg        F\n    5     24     31      1     0     0   8.712D-06   4.648D+00\n  F =   4.6481742637569301     \n\nCONVERGENCE: NORM_OF_PROJECTED_GRADIENT_<=_PGTOL            \n"
     ]
    }
   ],
   "source": [
    "# Modelo SARIMA para Precio_E1\n",
    "model_e1 = SARIMAX(df_e1['Precio_E1'], order=(1,1,1), seasonal_order=(1,1,1,12))\n",
    "result_e1 = model_e1.fit()\n",
    "\n",
    "# Modelo SARIMA para Precio_E2\n",
    "model_e2 = SARIMAX(df_e2['Precio_E2'], order=(1,1,1), seasonal_order=(1,1,1,12))\n",
    "result_e2 = model_e2.fit()"
   ]
  },
  {
   "cell_type": "markdown",
   "metadata": {
    "application/vnd.databricks.v1+cell": {
     "cellMetadata": {},
     "inputWidgets": {},
     "nuid": "6328ab7c-6296-49fc-b28b-374d06d6af99",
     "showTitle": false,
     "tableResultSettingsMap": {},
     "title": ""
    }
   },
   "source": [
    "## Proyección"
   ]
  },
  {
   "cell_type": "code",
   "execution_count": 0,
   "metadata": {
    "application/vnd.databricks.v1+cell": {
     "cellMetadata": {
      "byteLimit": 2048000,
      "rowLimit": 10000
     },
     "inputWidgets": {},
     "nuid": "27d55a8a-496d-4d11-8da5-610ce18b9165",
     "showTitle": false,
     "tableResultSettingsMap": {},
     "title": ""
    }
   },
   "outputs": [],
   "source": [
    "# Forecast 36 meses adelante\n",
    "forecast_e1 = result_e1.get_forecast(steps=36)\n",
    "forecast_e2 = result_e2.get_forecast(steps=36)\n",
    "\n",
    "# Extraer predicciones\n",
    "pred_e1 = forecast_e1.predicted_mean\n",
    "pred_e2 = forecast_e2.predicted_mean\n",
    "\n",
    "# Crear índice de fechas futuras\n",
    "future_dates = pd.date_range(start=df_e1.index[-1] + pd.DateOffset(months=1), periods=36, freq='M')\n",
    "\n",
    "# Crear DataFrames con proyecciones\n",
    "projection_e1 = pd.DataFrame({'Date': future_dates, 'Precio_E1_proyectado': pred_e1.values})\n",
    "projection_e2 = pd.DataFrame({'Date': future_dates, 'Precio_E2_proyectado': pred_e2.values})\n"
   ]
  },
  {
   "cell_type": "markdown",
   "metadata": {
    "application/vnd.databricks.v1+cell": {
     "cellMetadata": {},
     "inputWidgets": {},
     "nuid": "a6297873-2bed-4f44-a981-33510f711734",
     "showTitle": false,
     "tableResultSettingsMap": {},
     "title": ""
    }
   },
   "source": [
    "## Visualización"
   ]
  },
  {
   "cell_type": "code",
   "execution_count": 0,
   "metadata": {
    "application/vnd.databricks.v1+cell": {
     "cellMetadata": {
      "byteLimit": 2048000,
      "rowLimit": 10000
     },
     "inputWidgets": {},
     "nuid": "e0112b39-93d7-4db6-8850-131c068ee230",
     "showTitle": false,
     "tableResultSettingsMap": {},
     "title": ""
    }
   },
   "outputs": [
    {
     "output_type": "display_data",
     "data": {
      "image/png": "[encoded data removed]",
      "text/plain": [
       "<Figure size 1400x600 with 1 Axes>"
      ]
     },
     "metadata": {},
     "output_type": "display_data"
    }
   ],
   "source": [
    "plt.figure(figsize=(14, 6))\n",
    "\n",
    "# Equipo 1\n",
    "plt.plot(df_e1.index, df_e1['Precio_E1'], label='Histórico Equipo 1')\n",
    "plt.plot(projection_e1['Date'], projection_e1['Precio_E1_proyectado'], '--', label='Proyección Equipo 1')\n",
    "\n",
    "# Equipo 2\n",
    "plt.plot(df_e2.index, df_e2['Precio_E2'], label='Histórico Equipo 2')\n",
    "plt.plot(projection_e2['Date'], projection_e2['Precio_E2_proyectado'], '--', label='Proyección Equipo 2')\n",
    "\n",
    "plt.title(\"Proyección de precios para los equipos (36 meses)\")\n",
    "plt.xlabel(\"Fecha\")\n",
    "plt.ylabel(\"Precio (USD)\")\n",
    "plt.legend()\n",
    "plt.grid(True)\n",
    "plt.show()\n"
   ]
  }
 ],
 "metadata": {
  "application/vnd.databricks.v1+notebook": {
   "computePreferences": null,
   "dashboards": [],
   "environmentMetadata": {
    "base_environment": "",
    "environment_version": "2"
   },
   "inputWidgetPreferences": null,
   "language": "python",
   "notebookMetadata": {
    "pythonIndentUnit": 4
   },
   "notebookName": "Proyección de Costos",
   "widgets": {}
  },
  "language_info": {
   "name": "python"
  }
 },
 "nbformat": 4,
 "nbformat_minor": 0
}